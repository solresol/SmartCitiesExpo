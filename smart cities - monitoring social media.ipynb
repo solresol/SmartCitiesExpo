{
 "cells": [
  {
   "cell_type": "markdown",
   "metadata": {},
   "source": [
    "# Big Data from social media\n",
    "\n",
    "If you have enough eyes, any problem becomes obvious. The challenge is getting information in from\n",
    "large numbers of users efficiently.\n",
    "\n",
    "This notebook analyses the sentiment expressed in a few social media posts about the playground."
   ]
  },
  {
   "cell_type": "code",
   "execution_count": 1,
   "metadata": {
    "collapsed": true
   },
   "outputs": [],
   "source": [
    "%matplotlib inline\n",
    "import matplotlib\n",
    "import nltk\n",
    "import pandas\n",
    "import datetime\n",
    "\n",
    "def sentiment(x):\n",
    "    return sum([z for (w,z) in sentiment_by_word(x)])\n",
    "    \n",
    "def sentiment_by_word(x):\n",
    "    answer = []\n",
    "    for (word, pos) in nltk.pos_tag(nltk.word_tokenize(x)):\n",
    "        for s in nltk.corpus.sentiwordnet.senti_synsets(word):\n",
    "            (name, s_pos, number) = s.synset.name().split('.')\n",
    "            if ((pos[0] == 'J' and s_pos == 's') or \n",
    "                (pos[0] == 'V' and s_pos == 'v') or \n",
    "                (pos[0] == 'N' and s_pos == 'n') or\n",
    "                (pos[0] == 'R' and s_pos == 'r')):\n",
    "                answer.append((word, s.pos_score() - s.neg_score()))\n",
    "                break\n",
    "    return answer"
   ]
  },
  {
   "cell_type": "code",
   "execution_count": 2,
   "metadata": {
    "collapsed": false
   },
   "outputs": [
    {
     "data": {
      "text/plain": [
       "[('park', 0.0),\n",
       " ('looks', 0.0),\n",
       " ('dreadful', -0.625),\n",
       " ('swing', 0.0),\n",
       " ('set', 0.125),\n",
       " ('is', 0.125),\n",
       " ('dangerous', -0.625)]"
      ]
     },
     "execution_count": 2,
     "metadata": {},
     "output_type": "execute_result"
    }
   ],
   "source": [
    "sentiment_by_word(\"The park looks dreadful, and the swing set is dangerous\")"
   ]
  },
  {
   "cell_type": "code",
   "execution_count": 3,
   "metadata": {
    "collapsed": false
   },
   "outputs": [
    {
     "data": {
      "text/plain": [
       "[('park', 0.0),\n",
       " ('is', 0.125),\n",
       " ('looking', 0.0),\n",
       " ('gorgeous', 0.75),\n",
       " ('now', 0.0),\n",
       " ('swings', 0.0),\n",
       " ('are', 0.125),\n",
       " ('so', 0.0),\n",
       " ('fun', 0.375)]"
      ]
     },
     "execution_count": 3,
     "metadata": {},
     "output_type": "execute_result"
    }
   ],
   "source": [
    "sentiment_by_word(\"The park is looking gorgeous now and the swings are so much fun\")"
   ]
  },
  {
   "cell_type": "code",
   "execution_count": 4,
   "metadata": {
    "collapsed": false
   },
   "outputs": [
    {
     "data": {
      "text/html": [
       "<div>\n",
       "<table border=\"1\" class=\"dataframe\">\n",
       "  <thead>\n",
       "    <tr style=\"text-align: right;\">\n",
       "      <th></th>\n",
       "      <th>Date</th>\n",
       "      <th>Message</th>\n",
       "    </tr>\n",
       "  </thead>\n",
       "  <tbody>\n",
       "    <tr>\n",
       "      <th>0</th>\n",
       "      <td>2013-06-06</td>\n",
       "      <td>The Shire Council was appalled to receive phot...</td>\n",
       "    </tr>\n",
       "    <tr>\n",
       "      <th>1</th>\n",
       "      <td>2013-09-01</td>\n",
       "      <td>Over many years the playground at the Train Pa...</td>\n",
       "    </tr>\n",
       "    <tr>\n",
       "      <th>2</th>\n",
       "      <td>2013-10-03</td>\n",
       "      <td>This video is not from Council but we need to ...</td>\n",
       "    </tr>\n",
       "    <tr>\n",
       "      <th>3</th>\n",
       "      <td>2013-11-02</td>\n",
       "      <td>The playground was established in 1954 and is ...</td>\n",
       "    </tr>\n",
       "    <tr>\n",
       "      <th>4</th>\n",
       "      <td>2013-12-01</td>\n",
       "      <td>I'm very upset about the playground being move...</td>\n",
       "    </tr>\n",
       "  </tbody>\n",
       "</table>\n",
       "</div>"
      ],
      "text/plain": [
       "        Date                                            Message\n",
       "0 2013-06-06  The Shire Council was appalled to receive phot...\n",
       "1 2013-09-01  Over many years the playground at the Train Pa...\n",
       "2 2013-10-03  This video is not from Council but we need to ...\n",
       "3 2013-11-02  The playground was established in 1954 and is ...\n",
       "4 2013-12-01  I'm very upset about the playground being move..."
      ]
     },
     "execution_count": 4,
     "metadata": {},
     "output_type": "execute_result"
    }
   ],
   "source": [
    "sm = pandas.read_csv('social-media.csv', parse_dates=['Date'])\n",
    "sm"
   ]
  },
  {
   "cell_type": "code",
   "execution_count": 5,
   "metadata": {
    "collapsed": true
   },
   "outputs": [],
   "source": [
    "playgrounds = sm[sm.Message.str.contains('playground')].copy()"
   ]
  },
  {
   "cell_type": "code",
   "execution_count": 6,
   "metadata": {
    "collapsed": false
   },
   "outputs": [
    {
     "data": {
      "image/png": "[encoded data removed]",
      "text/plain": [
       "<matplotlib.figure.Figure at 0x11eaa6550>"
      ]
     },
     "metadata": {},
     "output_type": "display_data"
    }
   ],
   "source": [
    "playgrounds['sentiment'] = playgrounds.Message.map(sentiment)\n",
    "fig = matplotlib.pyplot.plot(playgrounds.Date, playgrounds.sentiment)\n",
    "fig[0].figure.set_figwidth(8)"
   ]
  },
  {
   "cell_type": "code",
   "execution_count": 7,
   "metadata": {
    "collapsed": false
   },
   "outputs": [
    {
     "data": {
      "text/plain": [
       "<Text: The Shire Council was appalled to receive photographic...>"
      ]
     },
     "execution_count": 7,
     "metadata": {},
     "output_type": "execute_result"
    }
   ],
   "source": [
    "playground_text = nltk.Text(sum(playgrounds.Message.map(nltk.word_tokenize),[]))\n",
    "playground_text"
   ]
  },
  {
   "cell_type": "code",
   "execution_count": 8,
   "metadata": {
    "collapsed": false
   },
   "outputs": [
    {
     "name": "stdout",
     "output_type": "stream",
     "text": [
      "Displaying 6 of 6 matches:\n",
      "                                  playground . Over many years the playground \n",
      " playground . Over many years the playground at the Train Park has used by gen\n",
      "o is responsible for this sort of playground in our area ? The playground was \n",
      "t of playground in our area ? The playground was established in 1954 and is mu\n",
      "today . I 'm very upset about the playground being moved . A recent meeting wi\n",
      "Track Alliance confirmed that the playground will be renovated and revamped .\n"
     ]
    }
   ],
   "source": [
    "playground_text.concordance('playground')"
   ]
  },
  {
   "cell_type": "code",
   "execution_count": 10,
   "metadata": {
    "collapsed": false
   },
   "outputs": [
    {
     "data": {
      "image/png": "[encoded data removed]",
      "text/plain": [
       "<matplotlib.figure.Figure at 0x11f189650>"
      ]
     },
     "metadata": {},
     "output_type": "display_data"
    }
   ],
   "source": [
    "playground_text.dispersion_plot(['Council', 'playground', 'vandalism', 'swings'])"
   ]
  },
  {
   "cell_type": "code",
   "execution_count": null,
   "metadata": {
    "collapsed": true
   },
   "outputs": [],
   "source": []
  }
 ],
 "metadata": {
  "kernelspec": {
   "display_name": "Python 2",
   "language": "python",
   "name": "python2"
  },
  "language_info": {
   "codemirror_mode": {
    "name": "ipython",
    "version": 2
   },
   "file_extension": ".py",
   "mimetype": "text/x-python",
   "name": "python",
   "nbconvert_exporter": "python",
   "pygments_lexer": "ipython2",
   "version": "2.7.11"
  }
 },
 "nbformat": 4,
 "nbformat_minor": 0
}
