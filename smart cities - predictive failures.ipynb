{
 "cells": [
  {
   "cell_type": "markdown",
   "metadata": {},
   "source": [
    "# Predicting infrastructure failures\n",
    "\n",
    "Putting together all the easy-to-access data sources, we can start making predictive models."
   ]
  },
  {
   "cell_type": "code",
   "execution_count": 1,
   "metadata": {
    "collapsed": true
   },
   "outputs": [],
   "source": [
    "%matplotlib inline\n",
    "import pandas\n",
    "import sklearn\n",
    "import sklearn.linear_model\n",
    "import sklearn.cross_validation\n",
    "import sklearn.metrics\n",
    "\n",
    "def predict_failures(df, predictive_columns):\n",
    "    model = sklearn.linear_model.LogisticRegression()\n",
    "    predictions = sklearn.cross_validation.cross_val_predict(model,\n",
    "                                                         df[predictive_columns],\n",
    "                                                         df.Equipment_Failure,\n",
    "                                                         cv=2\n",
    "                                                        )\n",
    "    print predictions\n",
    "    print \"%.0f%% accuracy\" % (sklearn.metrics.accuracy_score(df.Equipment_Failure, predictions)*100.0,)"
   ]
  },
  {
   "cell_type": "code",
   "execution_count": 2,
   "metadata": {
    "collapsed": false
   },
   "outputs": [
    {
     "data": {
      "text/html": [
       "<div>\n",
       "<table border=\"1\" class=\"dataframe\">\n",
       "  <thead>\n",
       "    <tr style=\"text-align: right;\">\n",
       "      <th></th>\n",
       "      <th>Previous_Week_Sentiment</th>\n",
       "      <th>Child_Occupation_Ratio</th>\n",
       "      <th>Adults_or_Teens_Present</th>\n",
       "      <th>Cracking</th>\n",
       "      <th>Traffic_Volume</th>\n",
       "      <th>Equipment_Failure</th>\n",
       "    </tr>\n",
       "    <tr>\n",
       "      <th>Date</th>\n",
       "      <th></th>\n",
       "      <th></th>\n",
       "      <th></th>\n",
       "      <th></th>\n",
       "      <th></th>\n",
       "      <th></th>\n",
       "    </tr>\n",
       "  </thead>\n",
       "  <tbody>\n",
       "    <tr>\n",
       "      <th>2015-03-01</th>\n",
       "      <td>0.0</td>\n",
       "      <td>0.020</td>\n",
       "      <td>51</td>\n",
       "      <td>0</td>\n",
       "      <td>1.1</td>\n",
       "      <td>0</td>\n",
       "    </tr>\n",
       "    <tr>\n",
       "      <th>2015-03-08</th>\n",
       "      <td>0.0</td>\n",
       "      <td>0.300</td>\n",
       "      <td>21</td>\n",
       "      <td>0</td>\n",
       "      <td>2.3</td>\n",
       "      <td>0</td>\n",
       "    </tr>\n",
       "    <tr>\n",
       "      <th>2015-03-15</th>\n",
       "      <td>0.0</td>\n",
       "      <td>0.250</td>\n",
       "      <td>19</td>\n",
       "      <td>1</td>\n",
       "      <td>2.9</td>\n",
       "      <td>0</td>\n",
       "    </tr>\n",
       "    <tr>\n",
       "      <th>2015-03-22</th>\n",
       "      <td>0.9</td>\n",
       "      <td>0.170</td>\n",
       "      <td>14</td>\n",
       "      <td>0</td>\n",
       "      <td>2.7</td>\n",
       "      <td>0</td>\n",
       "    </tr>\n",
       "    <tr>\n",
       "      <th>2015-03-29</th>\n",
       "      <td>0.0</td>\n",
       "      <td>0.200</td>\n",
       "      <td>13</td>\n",
       "      <td>0</td>\n",
       "      <td>2.5</td>\n",
       "      <td>0</td>\n",
       "    </tr>\n",
       "    <tr>\n",
       "      <th>2015-04-05</th>\n",
       "      <td>0.0</td>\n",
       "      <td>0.001</td>\n",
       "      <td>41</td>\n",
       "      <td>0</td>\n",
       "      <td>1.2</td>\n",
       "      <td>1</td>\n",
       "    </tr>\n",
       "    <tr>\n",
       "      <th>2015-04-12</th>\n",
       "      <td>0.0</td>\n",
       "      <td>0.090</td>\n",
       "      <td>29</td>\n",
       "      <td>0</td>\n",
       "      <td>1.2</td>\n",
       "      <td>0</td>\n",
       "    </tr>\n",
       "    <tr>\n",
       "      <th>2015-04-19</th>\n",
       "      <td>-0.5</td>\n",
       "      <td>0.030</td>\n",
       "      <td>25</td>\n",
       "      <td>1</td>\n",
       "      <td>1.2</td>\n",
       "      <td>0</td>\n",
       "    </tr>\n",
       "    <tr>\n",
       "      <th>2015-04-26</th>\n",
       "      <td>-0.7</td>\n",
       "      <td>0.001</td>\n",
       "      <td>44</td>\n",
       "      <td>1</td>\n",
       "      <td>2.0</td>\n",
       "      <td>1</td>\n",
       "    </tr>\n",
       "    <tr>\n",
       "      <th>2015-05-03</th>\n",
       "      <td>0.0</td>\n",
       "      <td>0.050</td>\n",
       "      <td>11</td>\n",
       "      <td>0</td>\n",
       "      <td>2.4</td>\n",
       "      <td>0</td>\n",
       "    </tr>\n",
       "    <tr>\n",
       "      <th>2015-05-10</th>\n",
       "      <td>0.4</td>\n",
       "      <td>0.030</td>\n",
       "      <td>15</td>\n",
       "      <td>0</td>\n",
       "      <td>1.6</td>\n",
       "      <td>0</td>\n",
       "    </tr>\n",
       "    <tr>\n",
       "      <th>2015-05-17</th>\n",
       "      <td>0.0</td>\n",
       "      <td>0.400</td>\n",
       "      <td>22</td>\n",
       "      <td>0</td>\n",
       "      <td>2.3</td>\n",
       "      <td>0</td>\n",
       "    </tr>\n",
       "    <tr>\n",
       "      <th>2015-05-24</th>\n",
       "      <td>0.0</td>\n",
       "      <td>0.350</td>\n",
       "      <td>14</td>\n",
       "      <td>0</td>\n",
       "      <td>1.1</td>\n",
       "      <td>0</td>\n",
       "    </tr>\n",
       "    <tr>\n",
       "      <th>2015-05-31</th>\n",
       "      <td>0.1</td>\n",
       "      <td>0.120</td>\n",
       "      <td>36</td>\n",
       "      <td>0</td>\n",
       "      <td>2.9</td>\n",
       "      <td>0</td>\n",
       "    </tr>\n",
       "    <tr>\n",
       "      <th>2015-06-07</th>\n",
       "      <td>-0.5</td>\n",
       "      <td>0.001</td>\n",
       "      <td>43</td>\n",
       "      <td>1</td>\n",
       "      <td>1.1</td>\n",
       "      <td>1</td>\n",
       "    </tr>\n",
       "    <tr>\n",
       "      <th>2015-06-14</th>\n",
       "      <td>0.0</td>\n",
       "      <td>0.390</td>\n",
       "      <td>25</td>\n",
       "      <td>1</td>\n",
       "      <td>2.9</td>\n",
       "      <td>0</td>\n",
       "    </tr>\n",
       "    <tr>\n",
       "      <th>2015-06-21</th>\n",
       "      <td>-0.8</td>\n",
       "      <td>0.011</td>\n",
       "      <td>74</td>\n",
       "      <td>1</td>\n",
       "      <td>1.1</td>\n",
       "      <td>1</td>\n",
       "    </tr>\n",
       "    <tr>\n",
       "      <th>2015-06-28</th>\n",
       "      <td>0.0</td>\n",
       "      <td>0.013</td>\n",
       "      <td>8</td>\n",
       "      <td>0</td>\n",
       "      <td>2.0</td>\n",
       "      <td>0</td>\n",
       "    </tr>\n",
       "    <tr>\n",
       "      <th>2015-07-04</th>\n",
       "      <td>0.0</td>\n",
       "      <td>0.190</td>\n",
       "      <td>13</td>\n",
       "      <td>0</td>\n",
       "      <td>2.7</td>\n",
       "      <td>0</td>\n",
       "    </tr>\n",
       "    <tr>\n",
       "      <th>2015-07-11</th>\n",
       "      <td>0.0</td>\n",
       "      <td>0.210</td>\n",
       "      <td>15</td>\n",
       "      <td>0</td>\n",
       "      <td>1.6</td>\n",
       "      <td>0</td>\n",
       "    </tr>\n",
       "  </tbody>\n",
       "</table>\n",
       "</div>"
      ],
      "text/plain": [
       "            Previous_Week_Sentiment  Child_Occupation_Ratio  \\\n",
       "Date                                                          \n",
       "2015-03-01                      0.0                   0.020   \n",
       "2015-03-08                      0.0                   0.300   \n",
       "2015-03-15                      0.0                   0.250   \n",
       "2015-03-22                      0.9                   0.170   \n",
       "2015-03-29                      0.0                   0.200   \n",
       "2015-04-05                      0.0                   0.001   \n",
       "2015-04-12                      0.0                   0.090   \n",
       "2015-04-19                     -0.5                   0.030   \n",
       "2015-04-26                     -0.7                   0.001   \n",
       "2015-05-03                      0.0                   0.050   \n",
       "2015-05-10                      0.4                   0.030   \n",
       "2015-05-17                      0.0                   0.400   \n",
       "2015-05-24                      0.0                   0.350   \n",
       "2015-05-31                      0.1                   0.120   \n",
       "2015-06-07                     -0.5                   0.001   \n",
       "2015-06-14                      0.0                   0.390   \n",
       "2015-06-21                     -0.8                   0.011   \n",
       "2015-06-28                      0.0                   0.013   \n",
       "2015-07-04                      0.0                   0.190   \n",
       "2015-07-11                      0.0                   0.210   \n",
       "\n",
       "            Adults_or_Teens_Present  Cracking  Traffic_Volume  \\\n",
       "Date                                                            \n",
       "2015-03-01                       51         0             1.1   \n",
       "2015-03-08                       21         0             2.3   \n",
       "2015-03-15                       19         1             2.9   \n",
       "2015-03-22                       14         0             2.7   \n",
       "2015-03-29                       13         0             2.5   \n",
       "2015-04-05                       41         0             1.2   \n",
       "2015-04-12                       29         0             1.2   \n",
       "2015-04-19                       25         1             1.2   \n",
       "2015-04-26                       44         1             2.0   \n",
       "2015-05-03                       11         0             2.4   \n",
       "2015-05-10                       15         0             1.6   \n",
       "2015-05-17                       22         0             2.3   \n",
       "2015-05-24                       14         0             1.1   \n",
       "2015-05-31                       36         0             2.9   \n",
       "2015-06-07                       43         1             1.1   \n",
       "2015-06-14                       25         1             2.9   \n",
       "2015-06-21                       74         1             1.1   \n",
       "2015-06-28                        8         0             2.0   \n",
       "2015-07-04                       13         0             2.7   \n",
       "2015-07-11                       15         0             1.6   \n",
       "\n",
       "            Equipment_Failure  \n",
       "Date                           \n",
       "2015-03-01                  0  \n",
       "2015-03-08                  0  \n",
       "2015-03-15                  0  \n",
       "2015-03-22                  0  \n",
       "2015-03-29                  0  \n",
       "2015-04-05                  1  \n",
       "2015-04-12                  0  \n",
       "2015-04-19                  0  \n",
       "2015-04-26                  1  \n",
       "2015-05-03                  0  \n",
       "2015-05-10                  0  \n",
       "2015-05-17                  0  \n",
       "2015-05-24                  0  \n",
       "2015-05-31                  0  \n",
       "2015-06-07                  1  \n",
       "2015-06-14                  0  \n",
       "2015-06-21                  1  \n",
       "2015-06-28                  0  \n",
       "2015-07-04                  0  \n",
       "2015-07-11                  0  "
      ]
     },
     "execution_count": 2,
     "metadata": {},
     "output_type": "execute_result"
    }
   ],
   "source": [
    "df = pandas.read_csv('playground-data.csv', parse_dates='Date', index_col='Date')\n",
    "df"
   ]
  },
  {
   "cell_type": "code",
   "execution_count": 3,
   "metadata": {
    "collapsed": false
   },
   "outputs": [
    {
     "data": {
      "text/plain": [
       "<matplotlib.axes._subplots.AxesSubplot at 0x103e58790>"
      ]
     },
     "execution_count": 3,
     "metadata": {},
     "output_type": "execute_result"
    },
    {
     "data": {
      "image/png": "[encoded data removed]",
      "text/plain": [
       "<matplotlib.figure.Figure at 0x103e68050>"
      ]
     },
     "metadata": {},
     "output_type": "display_data"
    }
   ],
   "source": [
    "df.Equipment_Failure.plot()"
   ]
  },
  {
   "cell_type": "code",
   "execution_count": 4,
   "metadata": {
    "collapsed": true
   },
   "outputs": [
    {
     "data": {
      "text/plain": [
       "<matplotlib.axes._subplots.AxesSubplot at 0x1169a4990>"
      ]
     },
     "execution_count": 4,
     "metadata": {},
     "output_type": "execute_result"
    },
    {
     "data": {
      "image/png": "[encoded data removed]",
      "text/plain": [
       "<matplotlib.figure.Figure at 0x103e587d0>"
      ]
     },
     "metadata": {},
     "output_type": "display_data"
    }
   ],
   "source": [
    "df.Previous_Week_Sentiment.plot()"
   ]
  },
  {
   "cell_type": "code",
   "execution_count": 5,
   "metadata": {
    "collapsed": true
   },
   "outputs": [
    {
     "data": {
      "text/plain": [
       "<matplotlib.axes._subplots.AxesSubplot at 0x116c64750>"
      ]
     },
     "execution_count": 5,
     "metadata": {},
     "output_type": "execute_result"
    },
    {
     "data": {
      "image/png": "[encoded data removed]",
      "text/plain": [
       "<matplotlib.figure.Figure at 0x116c642d0>"
      ]
     },
     "metadata": {},
     "output_type": "display_data"
    }
   ],
   "source": [
    "df.Child_Occupation_Ratio.plot()"
   ]
  },
  {
   "cell_type": "code",
   "execution_count": 6,
   "metadata": {
    "collapsed": true
   },
   "outputs": [
    {
     "data": {
      "text/plain": [
       "<matplotlib.axes._subplots.AxesSubplot at 0x116eb0350>"
      ]
     },
     "execution_count": 6,
     "metadata": {},
     "output_type": "execute_result"
    },
    {
     "data": {
      "image/png": "[encoded data removed]",
      "text/plain": [
       "<matplotlib.figure.Figure at 0x116eb0b90>"
      ]
     },
     "metadata": {},
     "output_type": "display_data"
    }
   ],
   "source": [
    "df.Adults_or_Teens_Present.plot()"
   ]
  },
  {
   "cell_type": "code",
   "execution_count": null,
   "metadata": {
    "collapsed": false
   },
   "outputs": [],
   "source": [
    "df.Traffic_Volume.plot()"
   ]
  },
  {
   "cell_type": "code",
   "execution_count": null,
   "metadata": {
    "collapsed": false
   },
   "outputs": [],
   "source": [
    "df.Cracking.plot()"
   ]
  },
  {
   "cell_type": "code",
   "execution_count": 7,
   "metadata": {
    "collapsed": false
   },
   "outputs": [
    {
     "name": "stdout",
     "output_type": "stream",
     "text": [
      "[0 0 0 0 0 0 0 0 0 0 0 0 0 0 0 0 0 0 0 0]\n",
      "80% accuracy\n"
     ]
    }
   ],
   "source": [
    "predictions = predict_failures(df,['Previous_Week_Sentiment'] )"
   ]
  },
  {
   "cell_type": "code",
   "execution_count": 8,
   "metadata": {
    "collapsed": false
   },
   "outputs": [
    {
     "name": "stdout",
     "output_type": "stream",
     "text": [
      "[1 0 0 0 0 1 0 0 0 0 0 0 0 0 1 0 1 0 0 0]\n",
      "90% accuracy\n"
     ]
    }
   ],
   "source": [
    "predictions = predict_failures(df,['Previous_Week_Sentiment', \n",
    "                                   'Child_Occupation_Ratio', \n",
    "                                   'Adults_or_Teens_Present',\n",
    "                                   'Traffic_Volume', \n",
    "                                   \"Cracking\"] )"
   ]
  },
  {
   "cell_type": "code",
   "execution_count": 9,
   "metadata": {
    "collapsed": true
   },
   "outputs": [],
   "source": [
    "df['Child_Adult_Balance'] = df.Adults_or_Teens_Present / df.Child_Occupation_Ratio"
   ]
  },
  {
   "cell_type": "code",
   "execution_count": 10,
   "metadata": {
    "collapsed": false
   },
   "outputs": [
    {
     "name": "stdout",
     "output_type": "stream",
     "text": [
      "[0 0 0 0 0 1 0 0 1 0 0 0 0 0 1 0 0 0 0 0]\n",
      "95% accuracy\n"
     ]
    }
   ],
   "source": [
    "predictions = predict_failures(df,['Previous_Week_Sentiment', \n",
    "                                   'Child_Occupation_Ratio', \n",
    "                                   'Adults_or_Teens_Present',\n",
    "                                   'Traffic_Volume', \n",
    "                                   \"Cracking\",\n",
    "                                   \"Child_Adult_Balance\"\n",
    "                                  ] )"
   ]
  },
  {
   "cell_type": "code",
   "execution_count": null,
   "metadata": {
    "collapsed": true
   },
   "outputs": [],
   "source": []
  }
 ],
 "metadata": {
  "kernelspec": {
   "display_name": "Python 2",
   "language": "python",
   "name": "python2"
  },
  "language_info": {
   "codemirror_mode": {
    "name": "ipython",
    "version": 2
   },
   "file_extension": ".py",
   "mimetype": "text/x-python",
   "name": "python",
   "nbconvert_exporter": "python",
   "pygments_lexer": "ipython2",
   "version": "2.7.11"
  }
 },
 "nbformat": 4,
 "nbformat_minor": 0
}
